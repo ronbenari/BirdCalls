{
  "cells": [
    {
      "cell_type": "markdown",
      "metadata": {
        "id": "_PpNj7-idbX4"
      },
      "source": [
        "# Project Predict binary File"
      ]
    },
    {
      "cell_type": "markdown",
      "source": [
        "## Authors"
      ],
      "metadata": {
        "id": "0ebkPcmdlJha"
      }
    },
    {
      "cell_type": "markdown",
      "source": [
        "Bird calls identification project\n",
        "\n",
        "Ron Benari and Pavel Shanin\n",
        "\n",
        "Electrical Engineering Department\n",
        "\n",
        "TAU University"
      ],
      "metadata": {
        "id": "03aebxLohG8g"
      }
    },
    {
      "cell_type": "markdown",
      "source": [
        "## Hints"
      ],
      "metadata": {
        "id": "ubK5dDCylVVY"
      }
    },
    {
      "cell_type": "markdown",
      "source": [
        "### For running with GPU:\n",
        "\n",
        "On the menu - Runtime->Change runtime type\n",
        "\n",
        "On \"Hardware accelerator\": GPU\n",
        "\n",
        "### --------------------------------\n",
        "\n",
        "### Adding \"Birds Inference\" Shortcut to your Google Drive (Do only once)\n",
        "\n",
        "Open the shared \"Bird_Recognition_Pavel_Ron\" directory\n",
        "\n",
        "Righ click on \"Birds Inference\" and choose \"Add a shotrcut to Drive\"\n",
        "\n",
        "See that \"My Drive\" is marked and press \"ADD SHOTRCUT\"\n",
        "\n",
        "On your Drive, at \"My Drive\", you should see the \"Birds Inference\" shortcut (a folder icon with little arrow on it)\n",
        "\n",
        "### --------------------------------\n",
        "\n",
        "### Result Files\n",
        "\n",
        "The results files will be on the output path, in \"predictions\" folder.\n",
        "\n",
        "Two output files for the user:\n",
        "\n",
        "* model predicted labels.csv - Label per second of record file\n",
        "* model scores.csv - Model score per label per second of record file\n",
        "\n"
      ],
      "metadata": {
        "id": "O1aOC6o3kkUe"
      }
    },
    {
      "cell_type": "markdown",
      "source": [
        "## Installing additional packages"
      ],
      "metadata": {
        "id": "Z2Oy625Jk_5C"
      }
    },
    {
      "cell_type": "code",
      "execution_count": 2,
      "metadata": {
        "colab": {
          "base_uri": "https://localhost:8080/"
        },
        "id": "PXXe8yNsdbX6",
        "outputId": "12c44c74-d705-4669-de17-345320e4ded0"
      },
      "outputs": [
        {
          "output_type": "stream",
          "name": "stdout",
          "text": [
            "Looking in indexes: https://pypi.org/simple, https://us-python.pkg.dev/colab-wheels/public/simple/\n",
            "Collecting pydub\n",
            "  Downloading pydub-0.25.1-py2.py3-none-any.whl (32 kB)\n",
            "Installing collected packages: pydub\n",
            "Successfully installed pydub-0.25.1\n",
            "Looking in indexes: https://pypi.org/simple, https://us-python.pkg.dev/colab-wheels/public/simple/\n",
            "Collecting timm==0.4.5\n",
            "  Downloading timm-0.4.5-py3-none-any.whl (287 kB)\n",
            "\u001b[K     |████████████████████████████████| 287 kB 35.7 MB/s \n",
            "\u001b[?25hRequirement already satisfied: torchvision in /usr/local/lib/python3.8/dist-packages (from timm==0.4.5) (0.14.0+cu116)\n",
            "Requirement already satisfied: torch>=1.4 in /usr/local/lib/python3.8/dist-packages (from timm==0.4.5) (1.13.0+cu116)\n",
            "Requirement already satisfied: typing-extensions in /usr/local/lib/python3.8/dist-packages (from torch>=1.4->timm==0.4.5) (4.4.0)\n",
            "Requirement already satisfied: numpy in /usr/local/lib/python3.8/dist-packages (from torchvision->timm==0.4.5) (1.21.6)\n",
            "Requirement already satisfied: pillow!=8.3.*,>=5.3.0 in /usr/local/lib/python3.8/dist-packages (from torchvision->timm==0.4.5) (7.1.2)\n",
            "Requirement already satisfied: requests in /usr/local/lib/python3.8/dist-packages (from torchvision->timm==0.4.5) (2.23.0)\n",
            "Requirement already satisfied: urllib3!=1.25.0,!=1.25.1,<1.26,>=1.21.1 in /usr/local/lib/python3.8/dist-packages (from requests->torchvision->timm==0.4.5) (1.24.3)\n",
            "Requirement already satisfied: chardet<4,>=3.0.2 in /usr/local/lib/python3.8/dist-packages (from requests->torchvision->timm==0.4.5) (3.0.4)\n",
            "Requirement already satisfied: certifi>=2017.4.17 in /usr/local/lib/python3.8/dist-packages (from requests->torchvision->timm==0.4.5) (2022.12.7)\n",
            "Requirement already satisfied: idna<3,>=2.5 in /usr/local/lib/python3.8/dist-packages (from requests->torchvision->timm==0.4.5) (2.10)\n",
            "Installing collected packages: timm\n",
            "Successfully installed timm-0.4.5\n",
            "Looking in indexes: https://pypi.org/simple, https://us-python.pkg.dev/colab-wheels/public/simple/\n",
            "Collecting audiomentations\n",
            "  Downloading audiomentations-0.27.0-py3-none-any.whl (64 kB)\n",
            "\u001b[K     |████████████████████████████████| 64 kB 4.0 MB/s \n",
            "\u001b[?25hRequirement already satisfied: scipy<2,>=1.0.0 in /usr/local/lib/python3.8/dist-packages (from audiomentations) (1.7.3)\n",
            "Requirement already satisfied: librosa<0.10.0,>0.7.2 in /usr/local/lib/python3.8/dist-packages (from audiomentations) (0.8.1)\n",
            "Requirement already satisfied: numpy>=1.13.0 in /usr/local/lib/python3.8/dist-packages (from audiomentations) (1.21.6)\n",
            "Requirement already satisfied: pooch>=1.0 in /usr/local/lib/python3.8/dist-packages (from librosa<0.10.0,>0.7.2->audiomentations) (1.6.0)\n",
            "Requirement already satisfied: resampy>=0.2.2 in /usr/local/lib/python3.8/dist-packages (from librosa<0.10.0,>0.7.2->audiomentations) (0.4.2)\n",
            "Requirement already satisfied: decorator>=3.0.0 in /usr/local/lib/python3.8/dist-packages (from librosa<0.10.0,>0.7.2->audiomentations) (4.4.2)\n",
            "Requirement already satisfied: audioread>=2.0.0 in /usr/local/lib/python3.8/dist-packages (from librosa<0.10.0,>0.7.2->audiomentations) (3.0.0)\n",
            "Requirement already satisfied: packaging>=20.0 in /usr/local/lib/python3.8/dist-packages (from librosa<0.10.0,>0.7.2->audiomentations) (21.3)\n",
            "Requirement already satisfied: numba>=0.43.0 in /usr/local/lib/python3.8/dist-packages (from librosa<0.10.0,>0.7.2->audiomentations) (0.56.4)\n",
            "Requirement already satisfied: scikit-learn!=0.19.0,>=0.14.0 in /usr/local/lib/python3.8/dist-packages (from librosa<0.10.0,>0.7.2->audiomentations) (1.0.2)\n",
            "Requirement already satisfied: soundfile>=0.10.2 in /usr/local/lib/python3.8/dist-packages (from librosa<0.10.0,>0.7.2->audiomentations) (0.11.0)\n",
            "Requirement already satisfied: joblib>=0.14 in /usr/local/lib/python3.8/dist-packages (from librosa<0.10.0,>0.7.2->audiomentations) (1.2.0)\n",
            "Requirement already satisfied: importlib-metadata in /usr/local/lib/python3.8/dist-packages (from numba>=0.43.0->librosa<0.10.0,>0.7.2->audiomentations) (5.1.0)\n",
            "Requirement already satisfied: llvmlite<0.40,>=0.39.0dev0 in /usr/local/lib/python3.8/dist-packages (from numba>=0.43.0->librosa<0.10.0,>0.7.2->audiomentations) (0.39.1)\n",
            "Requirement already satisfied: setuptools in /usr/local/lib/python3.8/dist-packages (from numba>=0.43.0->librosa<0.10.0,>0.7.2->audiomentations) (57.4.0)\n",
            "Requirement already satisfied: pyparsing!=3.0.5,>=2.0.2 in /usr/local/lib/python3.8/dist-packages (from packaging>=20.0->librosa<0.10.0,>0.7.2->audiomentations) (3.0.9)\n",
            "Requirement already satisfied: appdirs>=1.3.0 in /usr/local/lib/python3.8/dist-packages (from pooch>=1.0->librosa<0.10.0,>0.7.2->audiomentations) (1.4.4)\n",
            "Requirement already satisfied: requests>=2.19.0 in /usr/local/lib/python3.8/dist-packages (from pooch>=1.0->librosa<0.10.0,>0.7.2->audiomentations) (2.23.0)\n",
            "Requirement already satisfied: urllib3!=1.25.0,!=1.25.1,<1.26,>=1.21.1 in /usr/local/lib/python3.8/dist-packages (from requests>=2.19.0->pooch>=1.0->librosa<0.10.0,>0.7.2->audiomentations) (1.24.3)\n",
            "Requirement already satisfied: certifi>=2017.4.17 in /usr/local/lib/python3.8/dist-packages (from requests>=2.19.0->pooch>=1.0->librosa<0.10.0,>0.7.2->audiomentations) (2022.12.7)\n",
            "Requirement already satisfied: idna<3,>=2.5 in /usr/local/lib/python3.8/dist-packages (from requests>=2.19.0->pooch>=1.0->librosa<0.10.0,>0.7.2->audiomentations) (2.10)\n",
            "Requirement already satisfied: chardet<4,>=3.0.2 in /usr/local/lib/python3.8/dist-packages (from requests>=2.19.0->pooch>=1.0->librosa<0.10.0,>0.7.2->audiomentations) (3.0.4)\n",
            "Requirement already satisfied: threadpoolctl>=2.0.0 in /usr/local/lib/python3.8/dist-packages (from scikit-learn!=0.19.0,>=0.14.0->librosa<0.10.0,>0.7.2->audiomentations) (3.1.0)\n",
            "Requirement already satisfied: cffi>=1.0 in /usr/local/lib/python3.8/dist-packages (from soundfile>=0.10.2->librosa<0.10.0,>0.7.2->audiomentations) (1.15.1)\n",
            "Requirement already satisfied: pycparser in /usr/local/lib/python3.8/dist-packages (from cffi>=1.0->soundfile>=0.10.2->librosa<0.10.0,>0.7.2->audiomentations) (2.21)\n",
            "Requirement already satisfied: zipp>=0.5 in /usr/local/lib/python3.8/dist-packages (from importlib-metadata->numba>=0.43.0->librosa<0.10.0,>0.7.2->audiomentations) (3.11.0)\n",
            "Installing collected packages: audiomentations\n",
            "Successfully installed audiomentations-0.27.0\n",
            "Looking in indexes: https://pypi.org/simple, https://us-python.pkg.dev/colab-wheels/public/simple/\n",
            "Collecting torch_audiomentations\n",
            "  Downloading torch_audiomentations-0.11.0-py3-none-any.whl (47 kB)\n",
            "\u001b[K     |████████████████████████████████| 47 kB 5.6 MB/s \n",
            "\u001b[?25hCollecting torch-pitch-shift>=1.2.2\n",
            "  Downloading torch_pitch_shift-1.2.2-py3-none-any.whl (5.0 kB)\n",
            "Requirement already satisfied: torchaudio>=0.7.0 in /usr/local/lib/python3.8/dist-packages (from torch_audiomentations) (0.13.0+cu116)\n",
            "Collecting julius<0.3,>=0.2.3\n",
            "  Downloading julius-0.2.7.tar.gz (59 kB)\n",
            "\u001b[K     |████████████████████████████████| 59 kB 7.9 MB/s \n",
            "\u001b[?25hRequirement already satisfied: librosa>=0.6.0 in /usr/local/lib/python3.8/dist-packages (from torch_audiomentations) (0.8.1)\n",
            "Requirement already satisfied: torch>=1.7.0 in /usr/local/lib/python3.8/dist-packages (from torch_audiomentations) (1.13.0+cu116)\n",
            "Requirement already satisfied: decorator>=3.0.0 in /usr/local/lib/python3.8/dist-packages (from librosa>=0.6.0->torch_audiomentations) (4.4.2)\n",
            "Requirement already satisfied: resampy>=0.2.2 in /usr/local/lib/python3.8/dist-packages (from librosa>=0.6.0->torch_audiomentations) (0.4.2)\n",
            "Requirement already satisfied: numba>=0.43.0 in /usr/local/lib/python3.8/dist-packages (from librosa>=0.6.0->torch_audiomentations) (0.56.4)\n",
            "Requirement already satisfied: soundfile>=0.10.2 in /usr/local/lib/python3.8/dist-packages (from librosa>=0.6.0->torch_audiomentations) (0.11.0)\n",
            "Requirement already satisfied: joblib>=0.14 in /usr/local/lib/python3.8/dist-packages (from librosa>=0.6.0->torch_audiomentations) (1.2.0)\n",
            "Requirement already satisfied: numpy>=1.15.0 in /usr/local/lib/python3.8/dist-packages (from librosa>=0.6.0->torch_audiomentations) (1.21.6)\n",
            "Requirement already satisfied: packaging>=20.0 in /usr/local/lib/python3.8/dist-packages (from librosa>=0.6.0->torch_audiomentations) (21.3)\n",
            "Requirement already satisfied: scikit-learn!=0.19.0,>=0.14.0 in /usr/local/lib/python3.8/dist-packages (from librosa>=0.6.0->torch_audiomentations) (1.0.2)\n",
            "Requirement already satisfied: scipy>=1.0.0 in /usr/local/lib/python3.8/dist-packages (from librosa>=0.6.0->torch_audiomentations) (1.7.3)\n",
            "Requirement already satisfied: audioread>=2.0.0 in /usr/local/lib/python3.8/dist-packages (from librosa>=0.6.0->torch_audiomentations) (3.0.0)\n",
            "Requirement already satisfied: pooch>=1.0 in /usr/local/lib/python3.8/dist-packages (from librosa>=0.6.0->torch_audiomentations) (1.6.0)\n",
            "Requirement already satisfied: setuptools in /usr/local/lib/python3.8/dist-packages (from numba>=0.43.0->librosa>=0.6.0->torch_audiomentations) (57.4.0)\n",
            "Requirement already satisfied: importlib-metadata in /usr/local/lib/python3.8/dist-packages (from numba>=0.43.0->librosa>=0.6.0->torch_audiomentations) (5.1.0)\n",
            "Requirement already satisfied: llvmlite<0.40,>=0.39.0dev0 in /usr/local/lib/python3.8/dist-packages (from numba>=0.43.0->librosa>=0.6.0->torch_audiomentations) (0.39.1)\n",
            "Requirement already satisfied: pyparsing!=3.0.5,>=2.0.2 in /usr/local/lib/python3.8/dist-packages (from packaging>=20.0->librosa>=0.6.0->torch_audiomentations) (3.0.9)\n",
            "Requirement already satisfied: requests>=2.19.0 in /usr/local/lib/python3.8/dist-packages (from pooch>=1.0->librosa>=0.6.0->torch_audiomentations) (2.23.0)\n",
            "Requirement already satisfied: appdirs>=1.3.0 in /usr/local/lib/python3.8/dist-packages (from pooch>=1.0->librosa>=0.6.0->torch_audiomentations) (1.4.4)\n",
            "Requirement already satisfied: certifi>=2017.4.17 in /usr/local/lib/python3.8/dist-packages (from requests>=2.19.0->pooch>=1.0->librosa>=0.6.0->torch_audiomentations) (2022.12.7)\n",
            "Requirement already satisfied: urllib3!=1.25.0,!=1.25.1,<1.26,>=1.21.1 in /usr/local/lib/python3.8/dist-packages (from requests>=2.19.0->pooch>=1.0->librosa>=0.6.0->torch_audiomentations) (1.24.3)\n",
            "Requirement already satisfied: chardet<4,>=3.0.2 in /usr/local/lib/python3.8/dist-packages (from requests>=2.19.0->pooch>=1.0->librosa>=0.6.0->torch_audiomentations) (3.0.4)\n",
            "Requirement already satisfied: idna<3,>=2.5 in /usr/local/lib/python3.8/dist-packages (from requests>=2.19.0->pooch>=1.0->librosa>=0.6.0->torch_audiomentations) (2.10)\n",
            "Requirement already satisfied: threadpoolctl>=2.0.0 in /usr/local/lib/python3.8/dist-packages (from scikit-learn!=0.19.0,>=0.14.0->librosa>=0.6.0->torch_audiomentations) (3.1.0)\n",
            "Requirement already satisfied: cffi>=1.0 in /usr/local/lib/python3.8/dist-packages (from soundfile>=0.10.2->librosa>=0.6.0->torch_audiomentations) (1.15.1)\n",
            "Requirement already satisfied: pycparser in /usr/local/lib/python3.8/dist-packages (from cffi>=1.0->soundfile>=0.10.2->librosa>=0.6.0->torch_audiomentations) (2.21)\n",
            "Requirement already satisfied: typing-extensions in /usr/local/lib/python3.8/dist-packages (from torch>=1.7.0->torch_audiomentations) (4.4.0)\n",
            "Collecting primePy>=1.3\n",
            "  Downloading primePy-1.3-py3-none-any.whl (4.0 kB)\n",
            "Requirement already satisfied: zipp>=0.5 in /usr/local/lib/python3.8/dist-packages (from importlib-metadata->numba>=0.43.0->librosa>=0.6.0->torch_audiomentations) (3.11.0)\n",
            "Building wheels for collected packages: julius\n",
            "  Building wheel for julius (setup.py) ... \u001b[?25l\u001b[?25hdone\n",
            "  Created wheel for julius: filename=julius-0.2.7-py3-none-any.whl size=21895 sha256=6b7064aa112b029d8b0a7a932a31874c83851c5a0152015b41444a833720749b\n",
            "  Stored in directory: /root/.cache/pip/wheels/85/89/4f/88596b58a42ee452100fe1cd6ac31265bb192e597cf85908da\n",
            "Successfully built julius\n",
            "Installing collected packages: primePy, torch-pitch-shift, julius, torch-audiomentations\n",
            "Successfully installed julius-0.2.7 primePy-1.3 torch-audiomentations-0.11.0 torch-pitch-shift-1.2.2\n"
          ]
        }
      ],
      "source": [
        "# PIPs\n",
        "!pip install pydub\n",
        "!pip install timm==0.4.5\n",
        "!pip install audiomentations\n",
        "!pip install torch_audiomentations"
      ]
    },
    {
      "cell_type": "markdown",
      "source": [
        "## Mounting Drive"
      ],
      "metadata": {
        "id": "E-SjDVWVlF7W"
      }
    },
    {
      "cell_type": "markdown",
      "source": [
        "# New Section"
      ],
      "metadata": {
        "id": "bi_V4z62t8MN"
      }
    },
    {
      "cell_type": "code",
      "execution_count": 13,
      "metadata": {
        "colab": {
          "base_uri": "https://localhost:8080/"
        },
        "id": "IjfFDijGdbX9",
        "outputId": "722d9679-56eb-4747-bfc5-6790f5b05598"
      },
      "outputs": [
        {
          "output_type": "stream",
          "name": "stdout",
          "text": [
            "Mounted at /content/gdrive\n"
          ]
        }
      ],
      "source": [
        "# mount gdrive\n",
        "\n",
        "from google.colab import drive\n",
        "# drive.mount('/content/gdrive')\n",
        "drive.mount('/content/gdrive', force_remount=True)"
      ]
    },
    {
      "cell_type": "markdown",
      "metadata": {
        "id": "B5K-UoHQdbX-"
      },
      "source": [
        "## Imports"
      ]
    },
    {
      "cell_type": "code",
      "execution_count": 1,
      "metadata": {
        "colab": {
          "base_uri": "https://localhost:8080/"
        },
        "id": "mQofIoM9dbX_",
        "outputId": "5713b7ab-2cc2-430b-f104-9f26bb1a8461"
      },
      "outputs": [
        {
          "output_type": "stream",
          "name": "stdout",
          "text": [
            "I am process 2615, running on e5689196524e: starting (Wed Dec 21 07:35:53 2022)\n"
          ]
        }
      ],
      "source": [
        "%reload_ext autoreload\n",
        "%autoreload 2\n",
        "\n",
        "import os\n",
        "import sys\n",
        "import pandas as pd\n",
        "import pickle\n",
        "import json\n",
        "\n",
        "from pathlib import Path\n",
        "\n",
        "# drive_link = 'https://drive.google.com/drive/folders/1ThlMWrsgEcBy_yRWqyKOWmLdGERXJMuJ?usp=share_link'\n",
        "# project_inference_path = '/content/gdrive/My Drive/DeepLearning/project/Birds Inference/'\n",
        "# project_inference_path = '/content/gdrive/My Drive/Bird_Recognition_Pavel_Ron/Birds Inference'\n",
        "\n",
        "project_inference_path = '/content/gdrive/My Drive/Birds Inference'\n",
        "\n",
        "project_code_path = str(Path(project_inference_path, 'Code'))\n",
        "birds_src_path = str(Path(project_code_path, 'project_src'))\n",
        "ssast_src_path = str(Path(project_code_path, 'ssast_modified_src'))\n",
        "models_src = str(Path(ssast_src_path, 'models'))\n",
        "\n",
        "sys.path.append(birds_src_path)\n",
        "sys.path.append(ssast_src_path)\n",
        "sys.path.append(models_src)\n",
        "\n",
        "\n",
        "import birds_run\n",
        "from model_predict import ModelPred"
      ]
    },
    {
      "cell_type": "markdown",
      "source": [
        "## User Inputs"
      ],
      "metadata": {
        "id": "4THfLhICj6M0"
      }
    },
    {
      "cell_type": "code",
      "source": [
        "# Records directory should be placed in project Predications path \n",
        "source_records_directory_name = 'example1'\n",
        "records_path = Path(project_inference_path,'Predictions', source_records_directory_name)\n",
        "\n",
        "# Setting output path to be same as input path\n",
        "output_path = records_path\n",
        "\n",
        "# Choose type of inference\n",
        "# True - predict bird/no bird (binary prediction)\n",
        "# False - predict per bird\n",
        "binary_prediction=False"
      ],
      "metadata": {
        "id": "bHuBtKSKgf5Z"
      },
      "execution_count": 10,
      "outputs": []
    },
    {
      "cell_type": "markdown",
      "source": [
        "## Records Inference"
      ],
      "metadata": {
        "id": "s8OMZmWWkFI-"
      }
    },
    {
      "cell_type": "code",
      "execution_count": 11,
      "metadata": {
        "colab": {
          "base_uri": "https://localhost:8080/"
        },
        "id": "ycA3aEVudbYC",
        "outputId": "2c2d1765-3722-435a-ebf0-0e4f4d8b2d13"
      },
      "outputs": [
        {
          "output_type": "stream",
          "name": "stdout",
          "text": [
            "Starting model predict\n",
            "model files path: /content/gdrive/My Drive/Birds Inference/Models/small_model_filter_10\n",
            "output files path: /content/gdrive/My Drive/Birds Inference/Predictions/example1\n",
            "\n",
            "Loading model small from /content/gdrive/My Drive/Birds Inference/Models/small_model_filter_10/audio_model_pretrained.pth\n",
            "now load a SSL pretrained models from /content/gdrive/My Drive/Birds Inference/Models/small_model_filter_10/audio_model_pretrained.pth\n",
            "pretraining patch split stride: frequency=16, time=16\n",
            "pretraining patch shape: frequency=16, time=16\n",
            "pretraining patch array dimension: frequency=8, time=64\n",
            "pretraining number of patches=512\n",
            "f_dim=8, t_dim=6\n",
            "p_f_dim=8, p_t_dim=64\n",
            "fstride=16, tstride=20, input_fdim=128, input_tdim=128, fshape=16, tshape=16\n",
            "fine-tuning patch split stride: frequncey=16, time=20\n",
            "fine-tuning number of patches=48\n",
            "Loading fine tune parameters from /content/gdrive/My Drive/Birds Inference/Models/small_model_filter_10/audio_model_params.pth\n"
          ]
        }
      ],
      "source": [
        "# Binary Model Prediction\n",
        "# model_params_path = Path(experiments_path, '11 Report model_comp Mixing 0_6 w Aug small', 'models', 'audio_model.25.pth')\n",
        "model_size = 'small'\n",
        "model_files_path = Path(project_inference_path, 'Models', 'small_model_filter_10')\n",
        "\n",
        "\n",
        "mp_bin = ModelPred(model_size, model_files_path, output_path, binary_prediction=binary_prediction)"
      ]
    },
    {
      "cell_type": "code",
      "execution_count": 12,
      "metadata": {
        "colab": {
          "base_uri": "https://localhost:8080/"
        },
        "id": "ijoYtGMYdbYE",
        "outputId": "c7161b36-159c-469c-c836-08658c432d17"
      },
      "outputs": [
        {
          "output_type": "stream",
          "name": "stdout",
          "text": [
            "Saving split files on /content/gdrive/My Drive/Birds Inference/Predictions/example1/split\n",
            "Splitting /content/gdrive/My Drive/Birds Inference/Predictions/example1/20200325_051000.WAV, duration 30\n",
            "Found total of 1 wave files on /content/gdrive/My Drive/Birds Inference/Predictions/example1\n",
            "Saved total of 30 split wave files on /content/gdrive/My Drive/Birds Inference/Predictions/example1/split\n",
            "Saving json file on /content/gdrive/My Drive/Birds Inference/Predictions/example1/eval_wav_files.json\n",
            "\n",
            "Running model prediction\n",
            "---------------the evaluation dataloader---------------\n",
            "now using following mask: 0 freq, 0 time\n",
            "now using mix-up with rate 0.000000\n",
            "now process birdcalls\n",
            "use dataset mean -0.229 and std 0.930 to normalize the input.\n",
            "number of classes is 78\n",
            "label_mask=None\n",
            "target[pred_positive_indexes].sum()=921.0\n",
            "len(pred_positive_indexes)=921\n",
            "(output[gt_positive_indexes] > 0.5).sum()=921\n",
            "len(gt_positive_indexes)=30\n",
            "---------------evaluate on the test set---------------\n",
            "Accuracy: 0.000000\n",
            "AUC: 0.000000\n",
            "Read one second records list from /content/gdrive/My Drive/Birds Inference/Predictions/example1/eval_wav_files.json\n",
            "Saving scores file to /content/gdrive/My Drive/Birds Inference/Predictions/example1/predictions/model scores.csv\n",
            "Saving predicted labels file to /content/gdrive/My Drive/Birds Inference/Predictions/example1/predictions/model predicted labels.csv\n"
          ]
        }
      ],
      "source": [
        "# making prediction\n",
        "mp_bin.pred_file(records_path=records_path)\n",
        "# processing predictions \n",
        "mp_bin.process_model_pred()"
      ]
    },
    {
      "cell_type": "code",
      "source": [],
      "metadata": {
        "id": "1UjB71UDl9Xc"
      },
      "execution_count": null,
      "outputs": []
    }
  ],
  "metadata": {
    "kernelspec": {
      "display_name": "Python 3.7.13 ('proj')",
      "language": "python",
      "name": "python3"
    },
    "language_info": {
      "name": "python",
      "version": "3.7.13"
    },
    "orig_nbformat": 4,
    "vscode": {
      "interpreter": {
        "hash": "a252715f43c8932e7045de5d4a57281c06033a7e90c0b7ae7e0da0559c17d691"
      }
    },
    "colab": {
      "provenance": []
    },
    "accelerator": "GPU",
    "gpuClass": "standard"
  },
  "nbformat": 4,
  "nbformat_minor": 0
}